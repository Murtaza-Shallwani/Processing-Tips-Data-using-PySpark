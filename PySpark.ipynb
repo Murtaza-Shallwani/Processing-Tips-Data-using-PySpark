{
 "cells": [
  {
   "cell_type": "code",
   "execution_count": 1,
   "id": "de403a72-0d34-4343-8208-8563f3469af9",
   "metadata": {},
   "outputs": [
    {
     "name": "stdout",
     "output_type": "stream",
     "text": [
      "Collecting pyspark\n",
      "  Downloading pyspark-3.5.0.tar.gz (316.9 MB)\n",
      "     ---------------------------------------- 0.0/316.9 MB ? eta -:--:--\n",
      "     ---------------------------------------- 0.0/316.9 MB ? eta -:--:--\n",
      "     ---------------------------------------- 0.0/316.9 MB ? eta -:--:--\n",
      "     ---------------------------------------- 0.0/316.9 MB ? eta -:--:--\n",
      "     -------------------------------------- 0.0/316.9 MB 131.3 kB/s eta 0:40:14\n",
      "     -------------------------------------- 0.1/316.9 MB 234.9 kB/s eta 0:22:29\n",
      "     -------------------------------------- 0.1/316.9 MB 409.6 kB/s eta 0:12:54\n",
      "     -------------------------------------- 0.2/316.9 MB 724.0 kB/s eta 0:07:18\n",
      "     ---------------------------------------- 0.6/316.9 MB 1.7 MB/s eta 0:03:03\n",
      "     ---------------------------------------- 1.7/316.9 MB 4.3 MB/s eta 0:01:14\n",
      "     ---------------------------------------- 3.6/316.9 MB 8.3 MB/s eta 0:00:38\n",
      "      -------------------------------------- 6.7/316.9 MB 14.4 MB/s eta 0:00:22\n",
      "     - ------------------------------------- 8.9/316.9 MB 17.4 MB/s eta 0:00:18\n",
      "     - ------------------------------------- 9.2/316.9 MB 16.4 MB/s eta 0:00:19\n",
      "     - ------------------------------------- 9.4/316.9 MB 16.2 MB/s eta 0:00:19\n",
      "     - ------------------------------------- 9.4/316.9 MB 16.2 MB/s eta 0:00:19\n",
      "     - ------------------------------------ 11.2/316.9 MB 31.2 MB/s eta 0:00:10\n",
      "     - ------------------------------------ 14.7/316.9 MB 32.7 MB/s eta 0:00:10\n",
      "     -- ----------------------------------- 17.3/316.9 MB 34.4 MB/s eta 0:00:09\n",
      "     -- ----------------------------------- 20.0/316.9 MB 72.6 MB/s eta 0:00:05\n",
      "     -- ----------------------------------- 22.2/316.9 MB 65.2 MB/s eta 0:00:05\n",
      "     -- ----------------------------------- 23.4/316.9 MB 54.4 MB/s eta 0:00:06\n",
      "     -- ----------------------------------- 24.9/316.9 MB 50.4 MB/s eta 0:00:06\n",
      "     --- ---------------------------------- 26.2/316.9 MB 43.5 MB/s eta 0:00:07\n",
      "     --- ---------------------------------- 27.1/316.9 MB 38.5 MB/s eta 0:00:08\n",
      "     --- ---------------------------------- 27.9/316.9 MB 34.6 MB/s eta 0:00:09\n",
      "     --- ---------------------------------- 29.4/316.9 MB 31.2 MB/s eta 0:00:10\n",
      "     --- ---------------------------------- 32.5/316.9 MB 34.4 MB/s eta 0:00:09\n",
      "     ---- --------------------------------- 35.9/316.9 MB 40.9 MB/s eta 0:00:07\n",
      "     ---- --------------------------------- 38.6/316.9 MB 65.6 MB/s eta 0:00:05\n",
      "     ----- -------------------------------- 41.8/316.9 MB 65.6 MB/s eta 0:00:05\n",
      "     ----- -------------------------------- 44.3/316.9 MB 59.5 MB/s eta 0:00:05\n",
      "     ----- -------------------------------- 46.1/316.9 MB 59.5 MB/s eta 0:00:05\n",
      "     ----- -------------------------------- 47.7/316.9 MB 54.4 MB/s eta 0:00:05\n",
      "     ----- -------------------------------- 49.0/316.9 MB 46.7 MB/s eta 0:00:06\n",
      "     ----- -------------------------------- 49.9/316.9 MB 40.9 MB/s eta 0:00:07\n",
      "     ------ ------------------------------- 51.0/316.9 MB 36.4 MB/s eta 0:00:08\n",
      "     ------ ------------------------------- 52.0/316.9 MB 32.8 MB/s eta 0:00:09\n",
      "     ------ ------------------------------- 54.2/316.9 MB 31.2 MB/s eta 0:00:09\n",
      "     ------ ------------------------------- 57.3/316.9 MB 36.4 MB/s eta 0:00:08\n",
      "     ------- ------------------------------ 59.8/316.9 MB 43.7 MB/s eta 0:00:06\n",
      "     ------- ------------------------------ 62.5/316.9 MB 59.5 MB/s eta 0:00:05\n",
      "     ------- ------------------------------ 65.8/316.9 MB 65.6 MB/s eta 0:00:04\n",
      "     -------- ----------------------------- 68.0/316.9 MB 59.5 MB/s eta 0:00:05\n",
      "     -------- ----------------------------- 69.9/316.9 MB 54.4 MB/s eta 0:00:05\n",
      "     -------- ----------------------------- 71.6/316.9 MB 50.4 MB/s eta 0:00:05\n",
      "     -------- ----------------------------- 72.7/316.9 MB 46.7 MB/s eta 0:00:06\n",
      "     -------- ----------------------------- 73.6/316.9 MB 40.9 MB/s eta 0:00:06\n",
      "     -------- ----------------------------- 74.5/316.9 MB 36.3 MB/s eta 0:00:07\n",
      "     --------- ---------------------------- 75.3/316.9 MB 32.7 MB/s eta 0:00:08\n",
      "     --------- ---------------------------- 76.0/316.9 MB 28.5 MB/s eta 0:00:09\n",
      "     --------- ---------------------------- 76.7/316.9 MB 26.2 MB/s eta 0:00:10\n",
      "     --------- ---------------------------- 78.6/316.9 MB 26.2 MB/s eta 0:00:10\n",
      "     --------- ---------------------------- 81.4/316.9 MB 27.3 MB/s eta 0:00:09\n",
      "     ---------- --------------------------- 83.6/316.9 MB 31.2 MB/s eta 0:00:08\n",
      "     ---------- --------------------------- 84.9/316.9 MB 34.4 MB/s eta 0:00:07\n",
      "     ---------- --------------------------- 85.9/316.9 MB 36.4 MB/s eta 0:00:07\n",
      "     ---------- --------------------------- 86.9/316.9 MB 36.4 MB/s eta 0:00:07\n",
      "     ---------- --------------------------- 87.9/316.9 MB 36.4 MB/s eta 0:00:07\n",
      "     ---------- --------------------------- 88.8/316.9 MB 32.8 MB/s eta 0:00:07\n",
      "     ---------- --------------------------- 89.6/316.9 MB 29.7 MB/s eta 0:00:08\n",
      "     ---------- --------------------------- 91.4/316.9 MB 28.4 MB/s eta 0:00:08\n",
      "     ----------- -------------------------- 93.5/316.9 MB 28.4 MB/s eta 0:00:08\n",
      "     ----------- -------------------------- 94.9/316.9 MB 28.4 MB/s eta 0:00:08\n",
      "     ----------- -------------------------- 96.1/316.9 MB 29.7 MB/s eta 0:00:08\n",
      "     ----------- -------------------------- 97.7/316.9 MB 31.2 MB/s eta 0:00:08\n",
      "     ----------- -------------------------- 98.9/316.9 MB 32.7 MB/s eta 0:00:07\n",
      "     ----------- -------------------------- 99.9/316.9 MB 34.6 MB/s eta 0:00:07\n",
      "     ----------- ------------------------- 100.8/316.9 MB 31.2 MB/s eta 0:00:07\n",
      "     ----------- ------------------------- 101.7/316.9 MB 28.5 MB/s eta 0:00:08\n",
      "     ------------ ------------------------ 103.2/316.9 MB 26.2 MB/s eta 0:00:09\n",
      "     ------------ ------------------------ 105.4/316.9 MB 28.5 MB/s eta 0:00:08\n",
      "     ------------ ------------------------ 107.2/316.9 MB 29.7 MB/s eta 0:00:08\n",
      "     ------------ ------------------------ 108.9/316.9 MB 31.2 MB/s eta 0:00:07\n",
      "     ------------ ------------------------ 110.2/316.9 MB 34.4 MB/s eta 0:00:06\n",
      "     ------------- ----------------------- 111.6/316.9 MB 34.6 MB/s eta 0:00:06\n",
      "     ------------- ----------------------- 112.7/316.9 MB 36.4 MB/s eta 0:00:06\n",
      "     ------------- ----------------------- 113.7/316.9 MB 34.4 MB/s eta 0:00:06\n",
      "     ------------- ----------------------- 114.6/316.9 MB 31.2 MB/s eta 0:00:07\n",
      "     ------------- ----------------------- 116.3/316.9 MB 31.2 MB/s eta 0:00:07\n",
      "     ------------- ----------------------- 119.2/316.9 MB 32.8 MB/s eta 0:00:07\n",
      "     -------------- ---------------------- 121.1/316.9 MB 34.4 MB/s eta 0:00:06\n",
      "     -------------- ---------------------- 122.4/316.9 MB 34.4 MB/s eta 0:00:06\n",
      "     -------------- ---------------------- 123.8/316.9 MB 36.4 MB/s eta 0:00:06\n",
      "     -------------- ---------------------- 125.1/316.9 MB 40.9 MB/s eta 0:00:05\n",
      "     -------------- ---------------------- 126.0/316.9 MB 34.4 MB/s eta 0:00:06\n",
      "     -------------- ---------------------- 126.7/316.9 MB 31.2 MB/s eta 0:00:07\n",
      "     -------------- ---------------------- 127.4/316.9 MB 29.7 MB/s eta 0:00:07\n",
      "     --------------- --------------------- 129.0/316.9 MB 27.3 MB/s eta 0:00:07\n",
      "     --------------- --------------------- 132.3/316.9 MB 31.2 MB/s eta 0:00:06\n",
      "     --------------- --------------------- 135.4/316.9 MB 38.6 MB/s eta 0:00:05\n",
      "     ---------------- -------------------- 138.1/316.9 MB 73.1 MB/s eta 0:00:03\n",
      "     ---------------- -------------------- 140.3/316.9 MB 73.1 MB/s eta 0:00:03\n",
      "     ---------------- -------------------- 142.9/316.9 MB 65.6 MB/s eta 0:00:03\n",
      "     ---------------- -------------------- 145.5/316.9 MB 59.5 MB/s eta 0:00:03\n",
      "     ----------------- ------------------- 148.8/316.9 MB 59.5 MB/s eta 0:00:03\n",
      "     ----------------- ------------------- 151.9/316.9 MB 65.6 MB/s eta 0:00:03\n",
      "     ------------------ ------------------ 155.9/316.9 MB 81.8 MB/s eta 0:00:02\n",
      "     ------------------ ------------------ 159.1/316.9 MB 72.6 MB/s eta 0:00:03\n",
      "     ------------------ ------------------ 160.9/316.9 MB 65.2 MB/s eta 0:00:03\n",
      "     ------------------- ----------------- 163.4/316.9 MB 59.8 MB/s eta 0:00:03\n",
      "     ------------------- ----------------- 165.8/316.9 MB 54.7 MB/s eta 0:00:03\n",
      "     ------------------- ----------------- 168.6/316.9 MB 59.5 MB/s eta 0:00:03\n",
      "     -------------------- ---------------- 172.3/316.9 MB 65.6 MB/s eta 0:00:03\n",
      "     -------------------- ---------------- 175.2/316.9 MB 65.6 MB/s eta 0:00:03\n",
      "     -------------------- ---------------- 177.8/316.9 MB 65.6 MB/s eta 0:00:03\n",
      "     -------------------- ---------------- 179.7/316.9 MB 59.5 MB/s eta 0:00:03\n",
      "     --------------------- --------------- 182.5/316.9 MB 54.4 MB/s eta 0:00:03\n",
      "     --------------------- --------------- 185.5/316.9 MB 59.5 MB/s eta 0:00:03\n",
      "     --------------------- --------------- 187.6/316.9 MB 54.4 MB/s eta 0:00:03\n",
      "     ---------------------- -------------- 189.9/316.9 MB 54.4 MB/s eta 0:00:03\n",
      "     ---------------------- -------------- 191.4/316.9 MB 50.4 MB/s eta 0:00:03\n",
      "     ---------------------- -------------- 194.5/316.9 MB 54.4 MB/s eta 0:00:03\n",
      "     ----------------------- ------------- 197.6/316.9 MB 59.5 MB/s eta 0:00:03\n",
      "     ----------------------- ------------- 200.4/316.9 MB 54.7 MB/s eta 0:00:03\n",
      "     ----------------------- ------------- 202.5/316.9 MB 59.5 MB/s eta 0:00:02\n",
      "     ----------------------- ------------- 204.0/316.9 MB 54.7 MB/s eta 0:00:03\n",
      "     ------------------------ ------------ 207.3/316.9 MB 54.7 MB/s eta 0:00:03\n",
      "     ------------------------ ------------ 210.3/316.9 MB 54.4 MB/s eta 0:00:02\n",
      "     ------------------------ ------------ 213.8/316.9 MB 72.6 MB/s eta 0:00:02\n",
      "     ------------------------- ----------- 217.0/316.9 MB 81.8 MB/s eta 0:00:02\n",
      "     ------------------------- ----------- 220.6/316.9 MB 72.6 MB/s eta 0:00:02\n",
      "     -------------------------- ---------- 223.0/316.9 MB 72.6 MB/s eta 0:00:02\n",
      "     -------------------------- ---------- 225.6/316.9 MB 65.2 MB/s eta 0:00:02\n",
      "     -------------------------- ---------- 228.1/316.9 MB 59.5 MB/s eta 0:00:02\n",
      "     -------------------------- ---------- 229.6/316.9 MB 54.7 MB/s eta 0:00:02\n",
      "     --------------------------- --------- 232.0/316.9 MB 50.4 MB/s eta 0:00:02\n",
      "     --------------------------- --------- 233.9/316.9 MB 46.7 MB/s eta 0:00:02\n",
      "     --------------------------- --------- 237.1/316.9 MB 50.4 MB/s eta 0:00:02\n",
      "     --------------------------- --------- 239.5/316.9 MB 50.4 MB/s eta 0:00:02\n",
      "     ---------------------------- -------- 241.3/316.9 MB 50.4 MB/s eta 0:00:02\n",
      "     ---------------------------- -------- 245.4/316.9 MB 54.7 MB/s eta 0:00:02\n",
      "     ---------------------------- -------- 248.1/316.9 MB 43.7 MB/s eta 0:00:02\n",
      "     ----------------------------- ------- 254.7/316.9 MB 72.6 MB/s eta 0:00:01\n",
      "     ----------------------------- ------ 258.1/316.9 MB 108.8 MB/s eta 0:00:01\n",
      "     ------------------------------ ------ 260.0/316.9 MB 93.9 MB/s eta 0:00:01\n",
      "     ------------------------------ ------ 262.1/316.9 MB 65.2 MB/s eta 0:00:01\n",
      "     ------------------------------ ------ 264.0/316.9 MB 59.5 MB/s eta 0:00:01\n",
      "     ------------------------------- ----- 265.8/316.9 MB 46.9 MB/s eta 0:00:02\n",
      "     ------------------------------- ----- 268.5/316.9 MB 46.7 MB/s eta 0:00:02\n",
      "     ------------------------------- ----- 271.6/316.9 MB 54.7 MB/s eta 0:00:01\n",
      "     -------------------------------- ---- 274.5/316.9 MB 54.4 MB/s eta 0:00:01\n",
      "     -------------------------------- ---- 276.8/316.9 MB 59.5 MB/s eta 0:00:01\n",
      "     -------------------------------- ---- 279.2/316.9 MB 54.4 MB/s eta 0:00:01\n",
      "     -------------------------------- ---- 281.3/316.9 MB 50.1 MB/s eta 0:00:01\n",
      "     --------------------------------- --- 283.1/316.9 MB 46.9 MB/s eta 0:00:01\n",
      "     --------------------------------- --- 284.8/316.9 MB 43.7 MB/s eta 0:00:01\n",
      "     --------------------------------- --- 286.7/316.9 MB 43.7 MB/s eta 0:00:01\n",
      "     --------------------------------- --- 289.3/316.9 MB 43.7 MB/s eta 0:00:01\n",
      "     ---------------------------------- -- 294.0/316.9 MB 59.5 MB/s eta 0:00:01\n",
      "     ---------------------------------- -- 296.8/316.9 MB 72.6 MB/s eta 0:00:01\n",
      "     ---------------------------------- -- 299.2/316.9 MB 72.6 MB/s eta 0:00:01\n",
      "     ----------------------------------- - 301.4/316.9 MB 65.6 MB/s eta 0:00:01\n",
      "     ----------------------------------- - 303.1/316.9 MB 54.4 MB/s eta 0:00:01\n",
      "     ----------------------------------- - 305.2/316.9 MB 50.4 MB/s eta 0:00:01\n",
      "     ----------------------------------- - 307.2/316.9 MB 46.7 MB/s eta 0:00:01\n",
      "     ------------------------------------  310.4/316.9 MB 50.4 MB/s eta 0:00:01\n",
      "     ------------------------------------  313.5/316.9 MB 59.5 MB/s eta 0:00:01\n",
      "     ------------------------------------  315.4/316.9 MB 54.7 MB/s eta 0:00:01\n",
      "     ------------------------------------  316.9/316.9 MB 50.4 MB/s eta 0:00:01\n",
      "     ------------------------------------  316.9/316.9 MB 50.4 MB/s eta 0:00:01\n",
      "     ------------------------------------  316.9/316.9 MB 50.4 MB/s eta 0:00:01\n",
      "     ------------------------------------  316.9/316.9 MB 50.4 MB/s eta 0:00:01\n",
      "     ------------------------------------  316.9/316.9 MB 50.4 MB/s eta 0:00:01\n",
      "     ------------------------------------  316.9/316.9 MB 50.4 MB/s eta 0:00:01\n",
      "     ------------------------------------  316.9/316.9 MB 50.4 MB/s eta 0:00:01\n",
      "     ------------------------------------  316.9/316.9 MB 50.4 MB/s eta 0:00:01\n",
      "     ------------------------------------  316.9/316.9 MB 50.4 MB/s eta 0:00:01\n",
      "     ------------------------------------  316.9/316.9 MB 50.4 MB/s eta 0:00:01\n",
      "     ------------------------------------  316.9/316.9 MB 50.4 MB/s eta 0:00:01\n",
      "     ------------------------------------  316.9/316.9 MB 50.4 MB/s eta 0:00:01\n",
      "     ------------------------------------  316.9/316.9 MB 50.4 MB/s eta 0:00:01\n",
      "     ------------------------------------  316.9/316.9 MB 50.4 MB/s eta 0:00:01\n",
      "     ------------------------------------  316.9/316.9 MB 50.4 MB/s eta 0:00:01\n",
      "     ------------------------------------  316.9/316.9 MB 50.4 MB/s eta 0:00:01\n",
      "     ------------------------------------  316.9/316.9 MB 50.4 MB/s eta 0:00:01\n",
      "     ------------------------------------  316.9/316.9 MB 50.4 MB/s eta 0:00:01\n",
      "     ------------------------------------  316.9/316.9 MB 50.4 MB/s eta 0:00:01\n",
      "     ------------------------------------  316.9/316.9 MB 50.4 MB/s eta 0:00:01\n",
      "     ------------------------------------  316.9/316.9 MB 50.4 MB/s eta 0:00:01\n",
      "     ------------------------------------  316.9/316.9 MB 50.4 MB/s eta 0:00:01\n",
      "     ------------------------------------  316.9/316.9 MB 50.4 MB/s eta 0:00:01\n",
      "     ------------------------------------  316.9/316.9 MB 50.4 MB/s eta 0:00:01\n",
      "     ------------------------------------  316.9/316.9 MB 50.4 MB/s eta 0:00:01\n",
      "     ------------------------------------  316.9/316.9 MB 50.4 MB/s eta 0:00:01\n",
      "     ------------------------------------  316.9/316.9 MB 50.4 MB/s eta 0:00:01\n",
      "     ------------------------------------  316.9/316.9 MB 50.4 MB/s eta 0:00:01\n",
      "     ------------------------------------  316.9/316.9 MB 50.4 MB/s eta 0:00:01\n",
      "     ------------------------------------  316.9/316.9 MB 50.4 MB/s eta 0:00:01\n",
      "     ------------------------------------  316.9/316.9 MB 50.4 MB/s eta 0:00:01\n",
      "     -------------------------------------- 316.9/316.9 MB 4.5 MB/s eta 0:00:00\n",
      "  Preparing metadata (setup.py): started\n",
      "  Preparing metadata (setup.py): finished with status 'done'\n",
      "Collecting py4j==0.10.9.7 (from pyspark)\n",
      "  Downloading py4j-0.10.9.7-py2.py3-none-any.whl (200 kB)\n",
      "     ---------------------------------------- 0.0/200.5 kB ? eta -:--:--\n",
      "     ------------------------------------- 200.5/200.5 kB 12.7 MB/s eta 0:00:00\n",
      "Building wheels for collected packages: pyspark\n",
      "  Building wheel for pyspark (setup.py): started\n",
      "  Building wheel for pyspark (setup.py): still running...\n",
      "  Building wheel for pyspark (setup.py): still running...\n",
      "  Building wheel for pyspark (setup.py): finished with status 'done'\n",
      "  Created wheel for pyspark: filename=pyspark-3.5.0-py2.py3-none-any.whl size=317425384 sha256=fd6b9d0ee17d338793adf4e24e11fecbbe76f03440c91f099892f0b1058ae15b\n",
      "  Stored in directory: c:\\users\\shall\\appdata\\local\\pip\\cache\\wheels\\38\\df\\61\\8c121f50c3cffd77f8178180dd232d90b3b99d1bd61fb6d6be\n",
      "Successfully built pyspark\n",
      "Installing collected packages: py4j, pyspark\n",
      "Successfully installed py4j-0.10.9.7 pyspark-3.5.0\n"
     ]
    },
    {
     "name": "stderr",
     "output_type": "stream",
     "text": [
      "\n",
      "[notice] A new release of pip is available: 23.2.1 -> 23.3.2\n",
      "[notice] To update, run: C:\\Users\\shall\\AppData\\Local\\Programs\\Python\\Python311\\python.exe -m pip install --upgrade pip\n"
     ]
    }
   ],
   "source": [
    "!pip install pyspark"
   ]
  },
  {
   "cell_type": "code",
   "execution_count": 2,
   "id": "586d77b5-1f5a-49c5-b29f-0147d38138ad",
   "metadata": {},
   "outputs": [],
   "source": [
    "import pyspark"
   ]
  },
  {
   "cell_type": "code",
   "execution_count": 27,
   "id": "d40328d6-ff3d-48a8-94bd-aa71aa0fc181",
   "metadata": {},
   "outputs": [
    {
     "data": {
      "text/html": [
       "<div>\n",
       "<style scoped>\n",
       "    .dataframe tbody tr th:only-of-type {\n",
       "        vertical-align: middle;\n",
       "    }\n",
       "\n",
       "    .dataframe tbody tr th {\n",
       "        vertical-align: top;\n",
       "    }\n",
       "\n",
       "    .dataframe thead th {\n",
       "        text-align: right;\n",
       "    }\n",
       "</style>\n",
       "<table border=\"1\" class=\"dataframe\">\n",
       "  <thead>\n",
       "    <tr style=\"text-align: right;\">\n",
       "      <th></th>\n",
       "      <th>Name</th>\n",
       "      <th>Age</th>\n",
       "      <th>Experience</th>\n",
       "    </tr>\n",
       "  </thead>\n",
       "  <tbody>\n",
       "    <tr>\n",
       "      <th>0</th>\n",
       "      <td>Jack</td>\n",
       "      <td>22</td>\n",
       "      <td>13</td>\n",
       "    </tr>\n",
       "    <tr>\n",
       "      <th>1</th>\n",
       "      <td>Bill</td>\n",
       "      <td>45</td>\n",
       "      <td>33</td>\n",
       "    </tr>\n",
       "    <tr>\n",
       "      <th>2</th>\n",
       "      <td>Dave</td>\n",
       "      <td>55</td>\n",
       "      <td>50</td>\n",
       "    </tr>\n",
       "  </tbody>\n",
       "</table>\n",
       "</div>"
      ],
      "text/plain": [
       "   Name  Age  Experience\n",
       "0  Jack   22          13\n",
       "1  Bill   45          33\n",
       "2  Dave   55          50"
      ]
     },
     "execution_count": 27,
     "metadata": {},
     "output_type": "execute_result"
    }
   ],
   "source": [
    "import pandas as pd\n",
    "pd.read_csv('test1.csv')"
   ]
  },
  {
   "cell_type": "code",
   "execution_count": 28,
   "id": "630cd81c-ae2c-4a98-97c9-c0a86e9a710a",
   "metadata": {},
   "outputs": [],
   "source": [
    "from pyspark.sql import SparkSession"
   ]
  },
  {
   "cell_type": "code",
   "execution_count": 29,
   "id": "9ac4c6e1-7e94-4fe5-9ee6-660224c3b86c",
   "metadata": {},
   "outputs": [],
   "source": [
    "spark=SparkSession.builder.appName('Practise').getOrCreate()"
   ]
  },
  {
   "cell_type": "code",
   "execution_count": 30,
   "id": "ce9afd87-f63f-40d2-a987-812448687c63",
   "metadata": {},
   "outputs": [
    {
     "data": {
      "text/html": [
       "\n",
       "            <div>\n",
       "                <p><b>SparkSession - in-memory</b></p>\n",
       "                \n",
       "        <div>\n",
       "            <p><b>SparkContext</b></p>\n",
       "\n",
       "            <p><a href=\"http://10.0.0.74:4040\">Spark UI</a></p>\n",
       "\n",
       "            <dl>\n",
       "              <dt>Version</dt>\n",
       "                <dd><code>v3.5.0</code></dd>\n",
       "              <dt>Master</dt>\n",
       "                <dd><code>local[*]</code></dd>\n",
       "              <dt>AppName</dt>\n",
       "                <dd><code>Practise</code></dd>\n",
       "            </dl>\n",
       "        </div>\n",
       "        \n",
       "            </div>\n",
       "        "
      ],
      "text/plain": [
       "<pyspark.sql.session.SparkSession at 0x1626d5413d0>"
      ]
     },
     "execution_count": 30,
     "metadata": {},
     "output_type": "execute_result"
    }
   ],
   "source": [
    "spark"
   ]
  },
  {
   "cell_type": "code",
   "execution_count": 31,
   "id": "b86bb91c-32fa-4fcd-ab60-cd046025fbea",
   "metadata": {},
   "outputs": [],
   "source": [
    "df_pyspark=spark.read.csv('test1.csv')"
   ]
  },
  {
   "cell_type": "code",
   "execution_count": 32,
   "id": "7f05477b-82ac-4745-ae19-c2ecc0036eb4",
   "metadata": {},
   "outputs": [
    {
     "name": "stdout",
     "output_type": "stream",
     "text": [
      "+----+---+----------+\n",
      "| _c0|_c1|       _c2|\n",
      "+----+---+----------+\n",
      "|Name|Age|Experience|\n",
      "|Jack| 22|        13|\n",
      "|Bill| 45|        33|\n",
      "|Dave| 55|        50|\n",
      "+----+---+----------+\n",
      "\n"
     ]
    }
   ],
   "source": [
    "df_pyspark.show()"
   ]
  },
  {
   "cell_type": "code",
   "execution_count": 33,
   "id": "7e2a637c-f11e-4a60-a656-629cc634c653",
   "metadata": {},
   "outputs": [],
   "source": [
    "df_pyspark=spark.read.option('header','true').csv('test1.csv')"
   ]
  },
  {
   "cell_type": "code",
   "execution_count": 34,
   "id": "3b9e42b3-633f-40c2-b867-15f03b70c017",
   "metadata": {},
   "outputs": [
    {
     "data": {
      "text/plain": [
       "pyspark.sql.dataframe.DataFrame"
      ]
     },
     "execution_count": 34,
     "metadata": {},
     "output_type": "execute_result"
    }
   ],
   "source": [
    "type(df_pyspark)"
   ]
  },
  {
   "cell_type": "code",
   "execution_count": 35,
   "id": "1776a55e-a177-4ba3-9174-aacc21fac754",
   "metadata": {},
   "outputs": [
    {
     "data": {
      "text/plain": [
       "[Row(Name='Jack', Age='22', Experience='13'),\n",
       " Row(Name='Bill', Age='45', Experience='33'),\n",
       " Row(Name='Dave', Age='55', Experience='50')]"
      ]
     },
     "execution_count": 35,
     "metadata": {},
     "output_type": "execute_result"
    }
   ],
   "source": [
    "df_pyspark.head(3)"
   ]
  },
  {
   "cell_type": "code",
   "execution_count": 36,
   "id": "99dfddb5-07ff-4ca1-96d2-2c215df759f7",
   "metadata": {},
   "outputs": [
    {
     "name": "stdout",
     "output_type": "stream",
     "text": [
      "root\n",
      " |-- Name: string (nullable = true)\n",
      " |-- Age: string (nullable = true)\n",
      " |-- Experience: string (nullable = true)\n",
      "\n"
     ]
    }
   ],
   "source": [
    "df_pyspark.printSchema()"
   ]
  },
  {
   "cell_type": "code",
   "execution_count": 37,
   "id": "32cbbd51-8662-45ff-9cda-8292c573f87d",
   "metadata": {},
   "outputs": [],
   "source": [
    "from pyspark.sql import SparkSession"
   ]
  },
  {
   "cell_type": "code",
   "execution_count": 39,
   "id": "4e5e0bc0-d4ca-4ed7-9654-4b7abb1bf2fe",
   "metadata": {},
   "outputs": [],
   "source": [
    "spark=SparkSession.builder.appName('Dataframe').getOrCreate()"
   ]
  },
  {
   "cell_type": "code",
   "execution_count": 40,
   "id": "e59c45a5-5ba7-4a42-96ee-323745761772",
   "metadata": {},
   "outputs": [
    {
     "data": {
      "text/html": [
       "\n",
       "            <div>\n",
       "                <p><b>SparkSession - in-memory</b></p>\n",
       "                \n",
       "        <div>\n",
       "            <p><b>SparkContext</b></p>\n",
       "\n",
       "            <p><a href=\"http://10.0.0.74:4040\">Spark UI</a></p>\n",
       "\n",
       "            <dl>\n",
       "              <dt>Version</dt>\n",
       "                <dd><code>v3.5.0</code></dd>\n",
       "              <dt>Master</dt>\n",
       "                <dd><code>local[*]</code></dd>\n",
       "              <dt>AppName</dt>\n",
       "                <dd><code>Practise</code></dd>\n",
       "            </dl>\n",
       "        </div>\n",
       "        \n",
       "            </div>\n",
       "        "
      ],
      "text/plain": [
       "<pyspark.sql.session.SparkSession at 0x1626d5413d0>"
      ]
     },
     "execution_count": 40,
     "metadata": {},
     "output_type": "execute_result"
    }
   ],
   "source": [
    "spark"
   ]
  },
  {
   "cell_type": "code",
   "execution_count": 41,
   "id": "97a617f3-cea5-46c5-b0bf-f2a017bbdbc2",
   "metadata": {},
   "outputs": [],
   "source": [
    "#Read Dataset\n",
    "df_pyspark=spark.read.option('header','true').csv('test1.csv')"
   ]
  },
  {
   "cell_type": "code",
   "execution_count": 42,
   "id": "c5a18dc7-5060-4436-a4c2-3befa284baeb",
   "metadata": {},
   "outputs": [
    {
     "name": "stdout",
     "output_type": "stream",
     "text": [
      "root\n",
      " |-- Name: string (nullable = true)\n",
      " |-- Age: string (nullable = true)\n",
      " |-- Experience: string (nullable = true)\n",
      "\n"
     ]
    }
   ],
   "source": [
    "df_pyspark.printSchema()"
   ]
  },
  {
   "cell_type": "code",
   "execution_count": 43,
   "id": "aa28a5dd-de3f-4cfc-9fa0-e0ab7a179b74",
   "metadata": {},
   "outputs": [
    {
     "data": {
      "text/plain": [
       "pyspark.sql.dataframe.DataFrame"
      ]
     },
     "execution_count": 43,
     "metadata": {},
     "output_type": "execute_result"
    }
   ],
   "source": [
    "type(df_pyspark)"
   ]
  },
  {
   "cell_type": "code",
   "execution_count": 44,
   "id": "ded6d640-b1a6-48e0-8f22-c6df944a8af9",
   "metadata": {},
   "outputs": [
    {
     "data": {
      "text/plain": [
       "[Row(Name='Jack', Age='22', Experience='13'),\n",
       " Row(Name='Bill', Age='45', Experience='33'),\n",
       " Row(Name='Dave', Age='55', Experience='50')]"
      ]
     },
     "execution_count": 44,
     "metadata": {},
     "output_type": "execute_result"
    }
   ],
   "source": [
    "df_pyspark.head(3)"
   ]
  },
  {
   "cell_type": "code",
   "execution_count": 45,
   "id": "acd58602-a0f0-40ce-a4bc-5011020410d0",
   "metadata": {},
   "outputs": [
    {
     "name": "stdout",
     "output_type": "stream",
     "text": [
      "+----+---+----------+\n",
      "|Name|Age|Experience|\n",
      "+----+---+----------+\n",
      "|Jack| 22|        13|\n",
      "|Bill| 45|        33|\n",
      "|Dave| 55|        50|\n",
      "+----+---+----------+\n",
      "\n"
     ]
    }
   ],
   "source": [
    "df_pyspark.show()"
   ]
  },
  {
   "cell_type": "code",
   "execution_count": 50,
   "id": "e9f76c17-ef7e-4918-9dab-ea52ae641a0f",
   "metadata": {},
   "outputs": [
    {
     "name": "stdout",
     "output_type": "stream",
     "text": [
      "+----+----------+\n",
      "|Name|Experience|\n",
      "+----+----------+\n",
      "|Jack|        13|\n",
      "|Bill|        33|\n",
      "|Dave|        50|\n",
      "+----+----------+\n",
      "\n"
     ]
    }
   ],
   "source": [
    "df_pyspark.select(['Name','Experience']).show()"
   ]
  },
  {
   "cell_type": "code",
   "execution_count": 51,
   "id": "15886648-2c5e-4f0b-b9d9-7fad3f303f57",
   "metadata": {},
   "outputs": [
    {
     "data": {
      "text/plain": [
       "Column<'Name'>"
      ]
     },
     "execution_count": 51,
     "metadata": {},
     "output_type": "execute_result"
    }
   ],
   "source": [
    "df_pyspark['Name']"
   ]
  },
  {
   "cell_type": "code",
   "execution_count": 52,
   "id": "be8ba210-df93-4ae2-8911-efbc23151dc5",
   "metadata": {},
   "outputs": [
    {
     "data": {
      "text/plain": [
       "[('Name', 'string'), ('Age', 'string'), ('Experience', 'string')]"
      ]
     },
     "execution_count": 52,
     "metadata": {},
     "output_type": "execute_result"
    }
   ],
   "source": [
    "df_pyspark.dtypes"
   ]
  },
  {
   "cell_type": "code",
   "execution_count": 54,
   "id": "37619f87-4d51-466b-a66a-814da16e1ea8",
   "metadata": {},
   "outputs": [
    {
     "name": "stdout",
     "output_type": "stream",
     "text": [
      "+-------+----+------------------+------------------+\n",
      "|summary|Name|               Age|        Experience|\n",
      "+-------+----+------------------+------------------+\n",
      "|  count|   3|                 3|                 3|\n",
      "|   mean|NULL|40.666666666666664|              32.0|\n",
      "| stddev|NULL|16.921386861996073|18.520259177452136|\n",
      "|    min|Bill|                22|                13|\n",
      "|    max|Jack|                55|                50|\n",
      "+-------+----+------------------+------------------+\n",
      "\n"
     ]
    }
   ],
   "source": [
    "df_pyspark.describe().show()"
   ]
  },
  {
   "cell_type": "code",
   "execution_count": 55,
   "id": "77841b85-0fd5-4a2a-95b6-1e683e478871",
   "metadata": {},
   "outputs": [
    {
     "name": "stdout",
     "output_type": "stream",
     "text": [
      "+----+---+----------+------------------------+\n",
      "|Name|Age|Experience|Experience After 2 Years|\n",
      "+----+---+----------+------------------------+\n",
      "|Jack| 22|        13|                    15.0|\n",
      "|Bill| 45|        33|                    35.0|\n",
      "|Dave| 55|        50|                    52.0|\n",
      "+----+---+----------+------------------------+\n",
      "\n"
     ]
    }
   ],
   "source": [
    "### Adding Columns In Data Frame\n",
    "df_pyspark.withColumn('Experience After 2 Years',df_pyspark['Experience']+2).show()"
   ]
  },
  {
   "cell_type": "code",
   "execution_count": 57,
   "id": "b3e07325-a55e-4dda-8edd-0d6d46fa1522",
   "metadata": {},
   "outputs": [
    {
     "name": "stdout",
     "output_type": "stream",
     "text": [
      "+----+---+----------+\n",
      "|Name|Age|Experience|\n",
      "+----+---+----------+\n",
      "|Jack| 22|        13|\n",
      "|Bill| 45|        33|\n",
      "|Dave| 55|        50|\n",
      "+----+---+----------+\n",
      "\n"
     ]
    }
   ],
   "source": [
    "df_pyspark.show()"
   ]
  },
  {
   "cell_type": "code",
   "execution_count": 58,
   "id": "b8a4a310-fb73-4f11-b579-fd0c7661d9af",
   "metadata": {},
   "outputs": [],
   "source": [
    "## Drop columns\n",
    "df_pyspark=df_pyspark.drop('Expereince After 2 year')"
   ]
  },
  {
   "cell_type": "code",
   "execution_count": 59,
   "id": "4f3e8e36-ec02-40a8-bccc-4c969a9261db",
   "metadata": {},
   "outputs": [
    {
     "name": "stdout",
     "output_type": "stream",
     "text": [
      "+----+---+----------+\n",
      "|Name|Age|Experience|\n",
      "+----+---+----------+\n",
      "|Jack| 22|        13|\n",
      "|Bill| 45|        33|\n",
      "|Dave| 55|        50|\n",
      "+----+---+----------+\n",
      "\n"
     ]
    }
   ],
   "source": [
    "df_pyspark.show()"
   ]
  },
  {
   "cell_type": "code",
   "execution_count": 60,
   "id": "6732a443-9941-4cf4-ac8c-6b7c58043b40",
   "metadata": {},
   "outputs": [
    {
     "name": "stdout",
     "output_type": "stream",
     "text": [
      "+--------+---+----------+\n",
      "|New Name|Age|Experience|\n",
      "+--------+---+----------+\n",
      "|    Jack| 22|        13|\n",
      "|    Bill| 45|        33|\n",
      "|    Dave| 55|        50|\n",
      "+--------+---+----------+\n",
      "\n"
     ]
    }
   ],
   "source": [
    "df_pyspark.withColumnRenamed('Name','New Name').show()"
   ]
  },
  {
   "cell_type": "code",
   "execution_count": 61,
   "id": "c6500ad6-c765-4fc7-ae7d-6e310fcb789c",
   "metadata": {},
   "outputs": [],
   "source": [
    "from pyspark.sql import SparkSession\n",
    "spark=SparkSession.builder.appName('Practise').getOrCreate()"
   ]
  },
  {
   "cell_type": "code",
   "execution_count": 68,
   "id": "c970dbf4-2237-4e8f-a0f5-fe519671ae39",
   "metadata": {},
   "outputs": [],
   "source": [
    "df_pyspark=spark.read.csv('test2.csv',header=True,inferSchema=True)"
   ]
  },
  {
   "cell_type": "code",
   "execution_count": 69,
   "id": "30dca169-da1e-4d83-9797-0ccf2d51e2f4",
   "metadata": {},
   "outputs": [
    {
     "name": "stdout",
     "output_type": "stream",
     "text": [
      "+--------+----+----------+-------+\n",
      "|    Name| Age|Experience| Salary|\n",
      "+--------+----+----------+-------+\n",
      "|   Jason|  21|        10|    445|\n",
      "|    Fred|  30|        12|  32049|\n",
      "|Jaikumar|  40|        11|  30495|\n",
      "|   Mason|  43|        20|5866839|\n",
      "|  Barton|  40|        22| 938482|\n",
      "| William|  33|        14|2039485|\n",
      "|  Brenda|NULL|      NULL|5039281|\n",
      "|    NULL|  57|        41|   NULL|\n",
      "|    NULL|  23|      NULL|   NULL|\n",
      "+--------+----+----------+-------+\n",
      "\n"
     ]
    }
   ],
   "source": [
    "df_pyspark.show()"
   ]
  },
  {
   "cell_type": "code",
   "execution_count": 70,
   "id": "f50488b5-dc13-48b0-805b-0bd67ffd571b",
   "metadata": {},
   "outputs": [
    {
     "name": "stdout",
     "output_type": "stream",
     "text": [
      "+----+----------+-------+\n",
      "| Age|Experience| Salary|\n",
      "+----+----------+-------+\n",
      "|  21|        10|    445|\n",
      "|  30|        12|  32049|\n",
      "|  40|        11|  30495|\n",
      "|  43|        20|5866839|\n",
      "|  40|        22| 938482|\n",
      "|  33|        14|2039485|\n",
      "|NULL|      NULL|5039281|\n",
      "|  57|        41|   NULL|\n",
      "|  23|      NULL|   NULL|\n",
      "+----+----------+-------+\n",
      "\n"
     ]
    }
   ],
   "source": [
    "##Drop Columns\n",
    "df_pyspark.drop('Name').show()"
   ]
  },
  {
   "cell_type": "code",
   "execution_count": 72,
   "id": "32c87318-b86b-4bf8-992a-b6ab58bdb44f",
   "metadata": {},
   "outputs": [
    {
     "data": {
      "text/plain": [
       "<bound method DataFrame.show of DataFrame[Name: string, Age: int, Experience: int, Salary: int]>"
      ]
     },
     "execution_count": 72,
     "metadata": {},
     "output_type": "execute_result"
    }
   ],
   "source": [
    "df_pyspark.na.drop().show"
   ]
  },
  {
   "cell_type": "code",
   "execution_count": 74,
   "id": "f1b7440c-d94b-4663-824c-9c90c5e2b8a0",
   "metadata": {},
   "outputs": [
    {
     "name": "stdout",
     "output_type": "stream",
     "text": [
      "+--------+----+----------+-------+\n",
      "|    Name| Age|Experience| Salary|\n",
      "+--------+----+----------+-------+\n",
      "|   Jason|  21|        10|    445|\n",
      "|    Fred|  30|        12|  32049|\n",
      "|Jaikumar|  40|        11|  30495|\n",
      "|   Mason|  43|        20|5866839|\n",
      "|  Barton|  40|        22| 938482|\n",
      "| William|  33|        14|2039485|\n",
      "|  Brenda|NULL|      NULL|5039281|\n",
      "|    NULL|  57|        41|   NULL|\n",
      "|    NULL|  23|      NULL|   NULL|\n",
      "+--------+----+----------+-------+\n",
      "\n"
     ]
    }
   ],
   "source": [
    "## Any==how\n",
    "df_pyspark.na.drop(how=\"all\").show()"
   ]
  },
  {
   "cell_type": "code",
   "execution_count": 78,
   "id": "7fcecb33-2bae-46b7-871f-264b8ba8fe51",
   "metadata": {},
   "outputs": [
    {
     "name": "stdout",
     "output_type": "stream",
     "text": [
      "+--------+----+----------+-------+\n",
      "|    Name| Age|Experience| Salary|\n",
      "+--------+----+----------+-------+\n",
      "|   Jason|  21|        10|    445|\n",
      "|    Fred|  30|        12|  32049|\n",
      "|Jaikumar|  40|        11|  30495|\n",
      "|   Mason|  43|        20|5866839|\n",
      "|  Barton|  40|        22| 938482|\n",
      "| William|  33|        14|2039485|\n",
      "|  Brenda|NULL|      NULL|5039281|\n",
      "|    NULL|  57|        41|   NULL|\n",
      "+--------+----+----------+-------+\n",
      "\n"
     ]
    }
   ],
   "source": [
    "df_pyspark.na.drop(how=\"any\",thresh=2).show()"
   ]
  },
  {
   "cell_type": "code",
   "execution_count": 81,
   "id": "e46b5d11-7080-4cc4-a9b0-e5f29e2c95a9",
   "metadata": {},
   "outputs": [
    {
     "name": "stdout",
     "output_type": "stream",
     "text": [
      "+--------+---+----------+-------+\n",
      "|    Name|Age|Experience| Salary|\n",
      "+--------+---+----------+-------+\n",
      "|   Jason| 21|        10|    445|\n",
      "|    Fred| 30|        12|  32049|\n",
      "|Jaikumar| 40|        11|  30495|\n",
      "|   Mason| 43|        20|5866839|\n",
      "|  Barton| 40|        22| 938482|\n",
      "| William| 33|        14|2039485|\n",
      "+--------+---+----------+-------+\n",
      "\n"
     ]
    }
   ],
   "source": [
    "# Threshold\n",
    "# Cleaned motherfuckersssss\n",
    "df_pyspark.na.drop(how=\"any\",thresh=3).show()"
   ]
  },
  {
   "cell_type": "code",
   "execution_count": 84,
   "id": "46cd75c7-9530-4797-aa89-ce6ea61fb3eb",
   "metadata": {},
   "outputs": [
    {
     "name": "stdout",
     "output_type": "stream",
     "text": [
      "+--------+---+----------+-------+\n",
      "|    Name|Age|Experience| Salary|\n",
      "+--------+---+----------+-------+\n",
      "|   Jason| 21|        10|    445|\n",
      "|    Fred| 30|        12|  32049|\n",
      "|Jaikumar| 40|        11|  30495|\n",
      "|   Mason| 43|        20|5866839|\n",
      "|  Barton| 40|        22| 938482|\n",
      "| William| 33|        14|2039485|\n",
      "|    NULL| 57|        41|   NULL|\n",
      "+--------+---+----------+-------+\n",
      "\n"
     ]
    }
   ],
   "source": [
    "## Subset\n",
    "df_pyspark.na.drop(how=\"any\",subset=['Experience']).show()"
   ]
  },
  {
   "cell_type": "code",
   "execution_count": 85,
   "id": "f1618eb8-8e05-4d77-8577-99451c3cdf14",
   "metadata": {},
   "outputs": [
    {
     "name": "stdout",
     "output_type": "stream",
     "text": [
      "+--------+---+----------+-------+\n",
      "|    Name|Age|Experience| Salary|\n",
      "+--------+---+----------+-------+\n",
      "|   Jason| 21|        10|    445|\n",
      "|    Fred| 30|        12|  32049|\n",
      "|Jaikumar| 40|        11|  30495|\n",
      "|   Mason| 43|        20|5866839|\n",
      "|  Barton| 40|        22| 938482|\n",
      "| William| 33|        14|2039485|\n",
      "|    NULL| 57|        41|   NULL|\n",
      "|    NULL| 23|      NULL|   NULL|\n",
      "+--------+---+----------+-------+\n",
      "\n"
     ]
    }
   ],
   "source": [
    "## Subset\n",
    "df_pyspark.na.drop(how=\"any\",subset=['Age']).show()"
   ]
  },
  {
   "cell_type": "code",
   "execution_count": 90,
   "id": "90208a40-83c5-459f-8e8c-d43b9590f799",
   "metadata": {},
   "outputs": [
    {
     "name": "stdout",
     "output_type": "stream",
     "text": [
      "+--------+----+----------+-------+\n",
      "|    Name| Age|Experience| Salary|\n",
      "+--------+----+----------+-------+\n",
      "|   Jason|  21|        10|    445|\n",
      "|    Fred|  30|        12|  32049|\n",
      "|Jaikumar|  40|        11|  30495|\n",
      "|   Mason|  43|        20|5866839|\n",
      "|  Barton|  40|        22| 938482|\n",
      "| William|  33|        14|2039485|\n",
      "|  Brenda|NULL|      NULL|5039281|\n",
      "|    NULL|  57|        41|   NULL|\n",
      "|    NULL|  23|      NULL|   NULL|\n",
      "+--------+----+----------+-------+\n",
      "\n"
     ]
    }
   ],
   "source": [
    "# Filling the Missing Value\n",
    "df_pyspark.na.fill('Missing Values',['Experience','Age']).show()"
   ]
  },
  {
   "cell_type": "code",
   "execution_count": 91,
   "id": "5e0e7b48-a858-474c-b526-044fd9d292e1",
   "metadata": {},
   "outputs": [
    {
     "name": "stdout",
     "output_type": "stream",
     "text": [
      "+--------+----+----------+-------+\n",
      "|    Name| Age|Experience| Salary|\n",
      "+--------+----+----------+-------+\n",
      "|   Jason|  21|        10|    445|\n",
      "|    Fred|  30|        12|  32049|\n",
      "|Jaikumar|  40|        11|  30495|\n",
      "|   Mason|  43|        20|5866839|\n",
      "|  Barton|  40|        22| 938482|\n",
      "| William|  33|        14|2039485|\n",
      "|  Brenda|NULL|      NULL|5039281|\n",
      "|    NULL|  57|        41|   NULL|\n",
      "|    NULL|  23|      NULL|   NULL|\n",
      "+--------+----+----------+-------+\n",
      "\n"
     ]
    }
   ],
   "source": [
    "df_pyspark.show()"
   ]
  },
  {
   "cell_type": "code",
   "execution_count": 92,
   "id": "f7429ce1-d119-4ad1-9d37-1960bf1ff9bc",
   "metadata": {},
   "outputs": [],
   "source": [
    "from pyspark.ml.feature import Imputer\n",
    "\n",
    "imputer=Imputer(\n",
    "    inputCols=['Age','Experience','Salary'],\n",
    "    outputCols=[\"{}_imputed\".format(c) for c in ['Age','Experience','Salary']]\n",
    "    ).setStrategy(\"mean\")"
   ]
  },
  {
   "cell_type": "code",
   "execution_count": 93,
   "id": "297dcf49-9923-416d-acfd-2fd13aa70ab2",
   "metadata": {},
   "outputs": [
    {
     "name": "stdout",
     "output_type": "stream",
     "text": [
      "+--------+----+----------+-------+-----------+------------------+--------------+\n",
      "|    Name| Age|Experience| Salary|Age_imputed|Experience_imputed|Salary_imputed|\n",
      "+--------+----+----------+-------+-----------+------------------+--------------+\n",
      "|   Jason|  21|        10|    445|         21|                10|           445|\n",
      "|    Fred|  30|        12|  32049|         30|                12|         32049|\n",
      "|Jaikumar|  40|        11|  30495|         40|                11|         30495|\n",
      "|   Mason|  43|        20|5866839|         43|                20|       5866839|\n",
      "|  Barton|  40|        22| 938482|         40|                22|        938482|\n",
      "| William|  33|        14|2039485|         33|                14|       2039485|\n",
      "|  Brenda|NULL|      NULL|5039281|         35|                18|       5039281|\n",
      "|    NULL|  57|        41|   NULL|         57|                41|       1992439|\n",
      "|    NULL|  23|      NULL|   NULL|         23|                18|       1992439|\n",
      "+--------+----+----------+-------+-----------+------------------+--------------+\n",
      "\n"
     ]
    }
   ],
   "source": [
    "# Add imputation cols to df\n",
    "imputer.fit(df_pyspark).transform(df_pyspark).show()"
   ]
  },
  {
   "cell_type": "code",
   "execution_count": 94,
   "id": "096469d3-9149-4820-b3e8-83f03b612e9d",
   "metadata": {},
   "outputs": [],
   "source": [
    "spark=SparkSession.builder.appName('dataframe;=').getOrCreate()"
   ]
  },
  {
   "cell_type": "code",
   "execution_count": 97,
   "id": "03af5b65-74e5-4c65-bb6a-8c2f4c57c5d8",
   "metadata": {},
   "outputs": [
    {
     "name": "stdout",
     "output_type": "stream",
     "text": [
      "+--------+----+----------+-------+\n",
      "|    Name| Age|Experience| Salary|\n",
      "+--------+----+----------+-------+\n",
      "|   Jason|  21|        10|    445|\n",
      "|    Fred|  30|        12|  32049|\n",
      "|Jaikumar|  40|        11|  30495|\n",
      "|   Mason|  43|        20|5866839|\n",
      "|  Barton|  40|        22| 938482|\n",
      "| William|  33|        14|2039485|\n",
      "|  Brenda|NULL|      NULL|5039281|\n",
      "|    NULL|  57|        41|   NULL|\n",
      "|    NULL|  23|      NULL|   NULL|\n",
      "+--------+----+----------+-------+\n",
      "\n"
     ]
    }
   ],
   "source": [
    "df_pyspark=spark.read.csv('test2.csv',header=True,inferSchema=True)\n",
    "df_pyspark.show()"
   ]
  },
  {
   "cell_type": "code",
   "execution_count": 99,
   "id": "900a5b7c-4e7e-4506-b742-999333241ed6",
   "metadata": {},
   "outputs": [
    {
     "name": "stdout",
     "output_type": "stream",
     "text": [
      "+-----+---+----------+------+\n",
      "| Name|Age|Experience|Salary|\n",
      "+-----+---+----------+------+\n",
      "|Jason| 21|        10|   445|\n",
      "+-----+---+----------+------+\n",
      "\n"
     ]
    }
   ],
   "source": [
    "### Salary of people less than or equal 20000\n",
    "df_pyspark.filter(\"Salary<=20000\").show()"
   ]
  },
  {
   "cell_type": "code",
   "execution_count": 101,
   "id": "f96e1f10-5372-4999-bfed-6efba0d4bf61",
   "metadata": {},
   "outputs": [
    {
     "name": "stdout",
     "output_type": "stream",
     "text": [
      "+-----+---+\n",
      "| Name|Age|\n",
      "+-----+---+\n",
      "|Jason| 21|\n",
      "+-----+---+\n",
      "\n"
     ]
    }
   ],
   "source": [
    "df_pyspark.filter(\"Salary<=20000\").select(['Name','Age']).show()"
   ]
  },
  {
   "cell_type": "code",
   "execution_count": 103,
   "id": "cbe3ef6c-8a40-4fc2-af97-153259c0d559",
   "metadata": {},
   "outputs": [
    {
     "name": "stdout",
     "output_type": "stream",
     "text": [
      "+-----+---+----------+------+\n",
      "| Name|Age|Experience|Salary|\n",
      "+-----+---+----------+------+\n",
      "|Jason| 21|        10|   445|\n",
      "+-----+---+----------+------+\n",
      "\n"
     ]
    }
   ],
   "source": [
    "df_pyspark.filter(df_pyspark['Salary']<=20000).show()"
   ]
  },
  {
   "cell_type": "code",
   "execution_count": 108,
   "id": "39d8e41e-4de8-431f-9bbe-e0ae8e86c6ba",
   "metadata": {},
   "outputs": [
    {
     "name": "stdout",
     "output_type": "stream",
     "text": [
      "+----+---+----------+------+\n",
      "|Name|Age|Experience|Salary|\n",
      "+----+---+----------+------+\n",
      "+----+---+----------+------+\n",
      "\n"
     ]
    }
   ],
   "source": [
    "df_pyspark.filter((df_pyspark['Salary']<=20000) & \n",
    "                  (df_pyspark['Salary']>=1000)).show()"
   ]
  },
  {
   "cell_type": "code",
   "execution_count": 109,
   "id": "dd83a76a-0e0e-40e5-a95c-968f29e7e07f",
   "metadata": {},
   "outputs": [
    {
     "name": "stdout",
     "output_type": "stream",
     "text": [
      "+--------+----+----------+-------+\n",
      "|    Name| Age|Experience| Salary|\n",
      "+--------+----+----------+-------+\n",
      "|    Fred|  30|        12|  32049|\n",
      "|Jaikumar|  40|        11|  30495|\n",
      "|   Mason|  43|        20|5866839|\n",
      "|  Barton|  40|        22| 938482|\n",
      "| William|  33|        14|2039485|\n",
      "|  Brenda|NULL|      NULL|5039281|\n",
      "+--------+----+----------+-------+\n",
      "\n"
     ]
    }
   ],
   "source": [
    "df_pyspark.filter(~(df_pyspark['Salary']<=20000)).show()"
   ]
  },
  {
   "cell_type": "code",
   "execution_count": 110,
   "id": "17fc980e-de0b-4937-8c49-a49df8292a66",
   "metadata": {},
   "outputs": [],
   "source": [
    "spark=SparkSession.builder.appName('Agg').getOrCreate()"
   ]
  },
  {
   "cell_type": "code",
   "execution_count": 111,
   "id": "c0c61b4f-5486-42bd-a2fd-db1efd28bd67",
   "metadata": {},
   "outputs": [
    {
     "data": {
      "text/html": [
       "\n",
       "            <div>\n",
       "                <p><b>SparkSession - in-memory</b></p>\n",
       "                \n",
       "        <div>\n",
       "            <p><b>SparkContext</b></p>\n",
       "\n",
       "            <p><a href=\"http://10.0.0.74:4040\">Spark UI</a></p>\n",
       "\n",
       "            <dl>\n",
       "              <dt>Version</dt>\n",
       "                <dd><code>v3.5.0</code></dd>\n",
       "              <dt>Master</dt>\n",
       "                <dd><code>local[*]</code></dd>\n",
       "              <dt>AppName</dt>\n",
       "                <dd><code>Practise</code></dd>\n",
       "            </dl>\n",
       "        </div>\n",
       "        \n",
       "            </div>\n",
       "        "
      ],
      "text/plain": [
       "<pyspark.sql.session.SparkSession at 0x1626d5413d0>"
      ]
     },
     "execution_count": 111,
     "metadata": {},
     "output_type": "execute_result"
    }
   ],
   "source": [
    "spark"
   ]
  },
  {
   "cell_type": "code",
   "execution_count": 112,
   "id": "19c6cae4-b9f6-4b8a-b9f6-0bf9bfed2116",
   "metadata": {},
   "outputs": [],
   "source": [
    "df_pyspark=spark.read.csv('test3.csv',header=True,inferSchema=True)"
   ]
  },
  {
   "cell_type": "code",
   "execution_count": 114,
   "id": "4e21bbdf-68cf-4636-b357-2aaa4f2b8006",
   "metadata": {},
   "outputs": [
    {
     "name": "stdout",
     "output_type": "stream",
     "text": [
      "+------+----------------+---------+\n",
      "|  Name|     Departments|   Salary|\n",
      "+------+----------------+---------+\n",
      "|  Jack|              IT|       34|\n",
      "| Trent|         Finance|   762094|\n",
      "|  Drew|       Operation| 20345958|\n",
      "|  Seth|    Supply chain| 40919485|\n",
      "|  Cody|       Marketing|    10495|\n",
      "|Samuel|Customer Service|302918576|\n",
      "+------+----------------+---------+\n",
      "\n"
     ]
    }
   ],
   "source": [
    "df_pyspark.show()"
   ]
  },
  {
   "cell_type": "code",
   "execution_count": 115,
   "id": "ce87af2f-f550-45d4-9feb-d53a876ef6ed",
   "metadata": {},
   "outputs": [
    {
     "name": "stdout",
     "output_type": "stream",
     "text": [
      "root\n",
      " |-- Name: string (nullable = true)\n",
      " |-- Departments: string (nullable = true)\n",
      " |-- Salary: integer (nullable = true)\n",
      "\n"
     ]
    }
   ],
   "source": [
    "df_pyspark.printSchema()"
   ]
  },
  {
   "cell_type": "code",
   "execution_count": 116,
   "id": "596e8a5b-4302-4bd6-8c36-5db6943d7c8f",
   "metadata": {},
   "outputs": [
    {
     "data": {
      "text/plain": [
       "DataFrame[Name: string, sum(Salary): bigint]"
      ]
     },
     "execution_count": 116,
     "metadata": {},
     "output_type": "execute_result"
    }
   ],
   "source": [
    "df_pyspark.groupBy('Name').sum()"
   ]
  },
  {
   "cell_type": "code",
   "execution_count": 120,
   "id": "22d9ab8b-34d5-48d2-9342-310cc72f31d4",
   "metadata": {},
   "outputs": [
    {
     "name": "stdout",
     "output_type": "stream",
     "text": [
      "+------+-----------+\n",
      "|  Name|sum(Salary)|\n",
      "+------+-----------+\n",
      "| Trent|     762094|\n",
      "|  Jack|         34|\n",
      "|  Drew|   20345958|\n",
      "|  Cody|      10495|\n",
      "|Samuel|  302918576|\n",
      "|  Seth|   40919485|\n",
      "+------+-----------+\n",
      "\n"
     ]
    }
   ],
   "source": [
    "df_pyspark.groupBy('Name').sum().show()"
   ]
  },
  {
   "cell_type": "code",
   "execution_count": 121,
   "id": "d3f88ce2-312d-4664-9869-3fedc8f8730c",
   "metadata": {},
   "outputs": [
    {
     "name": "stdout",
     "output_type": "stream",
     "text": [
      "+----------------+-----------+\n",
      "|     Departments|sum(Salary)|\n",
      "+----------------+-----------+\n",
      "|         Finance|     762094|\n",
      "|Customer Service|  302918576|\n",
      "|       Operation|   20345958|\n",
      "|       Marketing|      10495|\n",
      "|              IT|         34|\n",
      "|    Supply chain|   40919485|\n",
      "+----------------+-----------+\n",
      "\n"
     ]
    }
   ],
   "source": [
    "df_pyspark.groupBy('Departments').sum().show()"
   ]
  },
  {
   "cell_type": "code",
   "execution_count": 122,
   "id": "4bf2f05b-589b-423c-aa5b-85bca69f3733",
   "metadata": {},
   "outputs": [
    {
     "name": "stdout",
     "output_type": "stream",
     "text": [
      "+----------------+------------+\n",
      "|     Departments| avg(Salary)|\n",
      "+----------------+------------+\n",
      "|         Finance|    762094.0|\n",
      "|Customer Service|3.02918576E8|\n",
      "|       Operation| 2.0345958E7|\n",
      "|       Marketing|     10495.0|\n",
      "|              IT|        34.0|\n",
      "|    Supply chain| 4.0919485E7|\n",
      "+----------------+------------+\n",
      "\n"
     ]
    }
   ],
   "source": [
    "df_pyspark.groupBy('Departments').mean().show()"
   ]
  },
  {
   "cell_type": "code",
   "execution_count": 123,
   "id": "b1ff07a0-6f0d-4ede-8113-6c5548b6a1bc",
   "metadata": {},
   "outputs": [
    {
     "name": "stdout",
     "output_type": "stream",
     "text": [
      "+----------------+-----+\n",
      "|     Departments|count|\n",
      "+----------------+-----+\n",
      "|         Finance|    1|\n",
      "|Customer Service|    1|\n",
      "|       Operation|    1|\n",
      "|       Marketing|    1|\n",
      "|              IT|    1|\n",
      "|    Supply chain|    1|\n",
      "+----------------+-----+\n",
      "\n"
     ]
    }
   ],
   "source": [
    "df_pyspark.groupBy('Departments').count().show()"
   ]
  },
  {
   "cell_type": "code",
   "execution_count": 124,
   "id": "88b14983-38f4-47c2-b840-128bd3b670e5",
   "metadata": {},
   "outputs": [
    {
     "name": "stdout",
     "output_type": "stream",
     "text": [
      "+-----------+\n",
      "|sum(Salary)|\n",
      "+-----------+\n",
      "|  364956642|\n",
      "+-----------+\n",
      "\n"
     ]
    }
   ],
   "source": [
    "df_pyspark.agg({'Salary':'sum'}).show()"
   ]
  },
  {
   "cell_type": "code",
   "execution_count": 164,
   "id": "ddf01685-3c27-40ec-9c3e-16d8aea3b580",
   "metadata": {},
   "outputs": [],
   "source": [
    "from pyspark.sql import SparkSession\n",
    "spark=SparkSession.builder.appName('Missing').getOrCreate()"
   ]
  },
  {
   "cell_type": "code",
   "execution_count": 173,
   "id": "ce6b0dfe-27e9-43b3-8b25-d1bd90cc0b78",
   "metadata": {},
   "outputs": [
    {
     "data": {
      "text/html": [
       "\n",
       "            <div>\n",
       "                <p><b>SparkSession - in-memory</b></p>\n",
       "                \n",
       "        <div>\n",
       "            <p><b>SparkContext</b></p>\n",
       "\n",
       "            <p><a href=\"http://10.0.0.74:4040\">Spark UI</a></p>\n",
       "\n",
       "            <dl>\n",
       "              <dt>Version</dt>\n",
       "                <dd><code>v3.5.0</code></dd>\n",
       "              <dt>Master</dt>\n",
       "                <dd><code>local[*]</code></dd>\n",
       "              <dt>AppName</dt>\n",
       "                <dd><code>Practise</code></dd>\n",
       "            </dl>\n",
       "        </div>\n",
       "        \n",
       "            </div>\n",
       "        "
      ],
      "text/plain": [
       "<pyspark.sql.session.SparkSession at 0x1626d5413d0>"
      ]
     },
     "execution_count": 173,
     "metadata": {},
     "output_type": "execute_result"
    }
   ],
   "source": [
    "spark"
   ]
  },
  {
   "cell_type": "code",
   "execution_count": 182,
   "id": "4053c226-b7e7-4ccd-a2b3-88dac02d2ed3",
   "metadata": {},
   "outputs": [],
   "source": [
    "# Read Dataset\n",
    "training=spark.read.csv('test2.csv',header=True,inferSchema=True)"
   ]
  },
  {
   "cell_type": "code",
   "execution_count": 183,
   "id": "f304d26e-33c1-4a4e-b069-b2b8fd9ed1b6",
   "metadata": {},
   "outputs": [
    {
     "name": "stdout",
     "output_type": "stream",
     "text": [
      "+--------+----+----------+-------+\n",
      "|    Name| Age|Experience| Salary|\n",
      "+--------+----+----------+-------+\n",
      "|   Jason|  21|        10|    445|\n",
      "|    Fred|  30|        12|  32049|\n",
      "|Jaikumar|  40|        11|  30495|\n",
      "|   Mason|  43|        20|5866839|\n",
      "|  Barton|  40|        22| 938482|\n",
      "| William|  33|        14|2039485|\n",
      "|  Brenda|NULL|      NULL|5039281|\n",
      "|    NULL|  57|        41|   NULL|\n",
      "|    NULL|  23|      NULL|   NULL|\n",
      "+--------+----+----------+-------+\n",
      "\n"
     ]
    }
   ],
   "source": [
    "training.show()"
   ]
  },
  {
   "cell_type": "code",
   "execution_count": 184,
   "id": "1d59ab5c-f765-4d89-8de9-8fdba5598da5",
   "metadata": {},
   "outputs": [
    {
     "name": "stdout",
     "output_type": "stream",
     "text": [
      "root\n",
      " |-- Name: string (nullable = true)\n",
      " |-- Age: integer (nullable = true)\n",
      " |-- Experience: integer (nullable = true)\n",
      " |-- Salary: integer (nullable = true)\n",
      "\n"
     ]
    }
   ],
   "source": [
    "training.printSchema()"
   ]
  },
  {
   "cell_type": "code",
   "execution_count": 185,
   "id": "543b5e51-48ea-49be-b28e-3384062884b0",
   "metadata": {},
   "outputs": [
    {
     "data": {
      "text/plain": [
       "['Name', 'Age', 'Experience', 'Salary']"
      ]
     },
     "execution_count": 185,
     "metadata": {},
     "output_type": "execute_result"
    }
   ],
   "source": [
    "training.columns"
   ]
  },
  {
   "cell_type": "code",
   "execution_count": 186,
   "id": "1f66a560-e006-4c16-acfe-b3cd9752a987",
   "metadata": {},
   "outputs": [],
   "source": [
    "from pyspark.ml.feature import VectorAssembler\n",
    "featureassembler=VectorAssembler(inputCols=[\"Age\",\"Experience\"],outputCol=\"Independent Features\")"
   ]
  },
  {
   "cell_type": "code",
   "execution_count": 192,
   "id": "0bb20ab2-66fe-4991-9d88-8008c160ba92",
   "metadata": {},
   "outputs": [],
   "source": [
    "output=featureassembler.transform(training)"
   ]
  },
  {
   "cell_type": "code",
   "execution_count": 188,
   "id": "6234bd78-32d2-44b4-ac56-e676ee689fd9",
   "metadata": {},
   "outputs": [
    {
     "data": {
      "text/plain": [
       "['Name', 'Age', 'Experience', 'Salary', 'Independent Features']"
      ]
     },
     "execution_count": 188,
     "metadata": {},
     "output_type": "execute_result"
    }
   ],
   "source": [
    "output.columns"
   ]
  },
  {
   "cell_type": "code",
   "execution_count": 189,
   "id": "c773b631-7426-4111-8a95-628448816158",
   "metadata": {},
   "outputs": [],
   "source": [
    "finalized_data=output.select(\"Independent Features\",\"Salary\")"
   ]
  },
  {
   "cell_type": "code",
   "execution_count": null,
   "id": "a7f93171-ac2f-4820-bcb3-7f1e4fc7736e",
   "metadata": {},
   "outputs": [],
   "source": [
    "from pyspark.ml.regression import LinearRegression\n",
    "#train test split\n",
    "train_data,test_data=finalized_data.randomSplit([0.75,0.25])\n",
    "regressor=LinearRegression(featuresCol='Independent Features', labelCol='Salary')\n",
    "regressor=regressor.fit(train_data)"
   ]
  },
  {
   "cell_type": "code",
   "execution_count": null,
   "id": "93af3a93-24ec-47b4-84cd-79b56b7903b6",
   "metadata": {},
   "outputs": [],
   "source": [
    "regressor.coefficients"
   ]
  },
  {
   "cell_type": "raw",
   "id": "d4e7bce0-0152-451c-93bf-cd8607d00987",
   "metadata": {},
   "source": [
    "regressor.intercept"
   ]
  },
  {
   "cell_type": "code",
   "execution_count": null,
   "id": "f44ba6dd-2d67-4e53-a44e-9e885258f353",
   "metadata": {},
   "outputs": [],
   "source": [
    "pred_results=regressor.evaluate(test_data)"
   ]
  },
  {
   "cell_type": "code",
   "execution_count": null,
   "id": "297efc58-ae25-4f44-bb9d-09b664917881",
   "metadata": {},
   "outputs": [],
   "source": [
    "pred_results.predictions.show()"
   ]
  },
  {
   "cell_type": "code",
   "execution_count": null,
   "id": "153e5485-e3f6-4062-b1f0-b16708c569dd",
   "metadata": {},
   "outputs": [],
   "source": [
    "pred_results.meanAbsoluteError,pred_results.meanSquaredError"
   ]
  }
 ],
 "metadata": {
  "kernelspec": {
   "display_name": "Python 3 (ipykernel)",
   "language": "python",
   "name": "python3"
  },
  "language_info": {
   "codemirror_mode": {
    "name": "ipython",
    "version": 3
   },
   "file_extension": ".py",
   "mimetype": "text/x-python",
   "name": "python",
   "nbconvert_exporter": "python",
   "pygments_lexer": "ipython3",
   "version": "3.11.5"
  }
 },
 "nbformat": 4,
 "nbformat_minor": 5
}
